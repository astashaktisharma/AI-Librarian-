{
  "nbformat": 4,
  "nbformat_minor": 0,
  "metadata": {
    "colab": {
      "provenance": [],
      "authorship_tag": "ABX9TyPunmkCoOyJw3S0CMvFJK+S",
      "include_colab_link": true
    },
    "kernelspec": {
      "name": "python3",
      "display_name": "Python 3"
    },
    "language_info": {
      "name": "python"
    }
  },
  "cells": [
    {
      "cell_type": "markdown",
      "metadata": {
        "id": "view-in-github",
        "colab_type": "text"
      },
      "source": [
        "<a href=\"https://colab.research.google.com/github/astashaktisharma/AI-Librarian-/blob/dataset-testing/ailib.ipynb\" target=\"_parent\"><img src=\"https://colab.research.google.com/assets/colab-badge.svg\" alt=\"Open In Colab\"/></a>"
      ]
    },
    {
      "cell_type": "markdown",
      "source": [
        "#Importing Kaggle Library and Uploading Dataset\n"
      ],
      "metadata": {
        "id": "Hj4Tg5mhSmTK"
      }
    },
    {
      "cell_type": "code",
      "execution_count": 1,
      "metadata": {
        "colab": {
          "base_uri": "https://localhost:8080/"
        },
        "id": "MVuif8kLSbzB",
        "outputId": "7e6e258d-0e6f-4b0c-b8e3-d00d3af17b12"
      },
      "outputs": [
        {
          "output_type": "stream",
          "name": "stdout",
          "text": [
            "Downloading from https://www.kaggle.com/api/v1/datasets/download/mdhamani/goodreads-books-100k?dataset_version_number=1...\n"
          ]
        },
        {
          "output_type": "stream",
          "name": "stderr",
          "text": [
            "100%|██████████| 44.2M/44.2M [00:00<00:00, 60.2MB/s]"
          ]
        },
        {
          "output_type": "stream",
          "name": "stdout",
          "text": [
            "Extracting files...\n"
          ]
        },
        {
          "output_type": "stream",
          "name": "stderr",
          "text": [
            "\n"
          ]
        },
        {
          "output_type": "stream",
          "name": "stdout",
          "text": [
            "Path to dataset files: /root/.cache/kagglehub/datasets/mdhamani/goodreads-books-100k/versions/1\n"
          ]
        }
      ],
      "source": [
        "'''import kagglehub\n",
        "\n",
        "# Download latest version\n",
        "path = kagglehub.dataset_download(\"mdhamani/goodreads-books-100k\")\n",
        "\n",
        "print(\"Path to dataset files:\", path)'''"
      ]
    },
    {
      "cell_type": "markdown",
      "source": [
        "Loading the datset and doing some basic data wrangling."
      ],
      "metadata": {
        "id": "HZtrWgR6S7uv"
      }
    },
    {
      "cell_type": "code",
      "source": [
        "import io\n",
        "import pandas as pd\n",
        "df = pd.read_csv(\"/content/GoodReads_100k_books.csv\").dropna(axis=1, how=\"all\")\n",
        "df.head()\n",
        "df.shape\n",
        "column_names = df.columns\n",
        "column_names"
      ],
      "metadata": {
        "colab": {
          "base_uri": "https://localhost:8080/"
        },
        "id": "kOWhs7zgTMGA",
        "outputId": "d8f4657d-f76b-4f01-f078-1473096e623e"
      },
      "execution_count": 5,
      "outputs": [
        {
          "output_type": "execute_result",
          "data": {
            "text/plain": [
              "Index(['author', 'bookformat', 'desc', 'genre', 'img', 'isbn', 'isbn13',\n",
              "       'link', 'pages', 'rating', 'reviews', 'title', 'totalratings'],\n",
              "      dtype='object')"
            ]
          },
          "metadata": {},
          "execution_count": 5
        }
      ]
    }
  ]
}